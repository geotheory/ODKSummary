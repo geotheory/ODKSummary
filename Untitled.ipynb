{
 "cells": [
  {
   "cell_type": "code",
   "execution_count": 30,
   "metadata": {
    "collapsed": false
   },
   "outputs": [],
   "source": [
    "import json\n",
    "import datetime\n",
    "from dateutil.parser import parse"
   ]
  },
  {
   "cell_type": "code",
   "execution_count": 7,
   "metadata": {
    "collapsed": false
   },
   "outputs": [],
   "source": [
    "with open('MOAS_OPD_v_9_5.json') as data_file:    \n",
    "    data = json.load(data_file)"
   ]
  },
  {
   "cell_type": "code",
   "execution_count": 49,
   "metadata": {
    "collapsed": false
   },
   "outputs": [],
   "source": [
    "data[0]['end']\n",
    "data[0]['test'] = 0\n"
   ]
  },
  {
   "cell_type": "code",
   "execution_count": 22,
   "metadata": {
    "collapsed": false
   },
   "outputs": [
    {
     "ename": "TypeError",
     "evalue": "'type' object is not iterable",
     "output_type": "error",
     "traceback": [
      "\u001b[0;31m---------------------------------------------------------------------------\u001b[0m",
      "\u001b[0;31mTypeError\u001b[0m                                 Traceback (most recent call last)",
      "\u001b[0;32m<ipython-input-22-dd468103c047>\u001b[0m in \u001b[0;36m<module>\u001b[0;34m()\u001b[0m\n\u001b[0;32m----> 1\u001b[0;31m \u001b[0;32mprint\u001b[0m \u001b[0;34m[\u001b[0m\u001b[0mobj\u001b[0m \u001b[0;32mfor\u001b[0m \u001b[0mobj\u001b[0m \u001b[0;32min\u001b[0m \u001b[0mdict\u001b[0m \u001b[0;32mif\u001b[0m\u001b[0;34m(\u001b[0m\u001b[0mobj\u001b[0m\u001b[0;34m[\u001b[0m\u001b[0;34m'type'\u001b[0m\u001b[0;34m]\u001b[0m \u001b[0;34m==\u001b[0m \u001b[0;36m1\u001b[0m\u001b[0;34m)\u001b[0m\u001b[0;34m]\u001b[0m\u001b[0;34m\u001b[0m\u001b[0m\n\u001b[0m",
      "\u001b[0;31mTypeError\u001b[0m: 'type' object is not iterable"
     ]
    }
   ],
   "source": [
    "print [obj for obj in dict if(obj['type'] == 1)] "
   ]
  },
  {
   "cell_type": "code",
   "execution_count": 32,
   "metadata": {
    "collapsed": false
   },
   "outputs": [
    {
     "data": {
      "text/plain": [
       "datetime.datetime(2007, 3, 4, 21, 8, 12)"
      ]
     },
     "execution_count": 32,
     "metadata": {},
     "output_type": "execute_result"
    }
   ],
   "source": [
    "datetime.datetime.strptime( \"2007-03-04T21:08:12\", \"%Y-%m-%dT%H:%M:%S\" )"
   ]
  },
  {
   "cell_type": "code",
   "execution_count": 56,
   "metadata": {
    "collapsed": false
   },
   "outputs": [
    {
     "data": {
      "text/plain": [
       "datetime.datetime(2015, 9, 30, 0, 0)"
      ]
     },
     "execution_count": 56,
     "metadata": {},
     "output_type": "execute_result"
    }
   ],
   "source": [
    "datetime.datetime.strptime( \"30-Sep-2015\", \"%d-%b-%Y\")"
   ]
  },
  {
   "cell_type": "code",
   "execution_count": 61,
   "metadata": {
    "collapsed": false
   },
   "outputs": [
    {
     "name": "stdout",
     "output_type": "stream",
     "text": [
      "14-Sep-2015 17:45:39\n",
      "14-Sep-2015 17:41:31\n",
      "14-Sep-2015 17:55:07\n",
      "14-Sep-2015 17:43:20\n",
      "14-Sep-2015 17:40:51\n",
      "14-Sep-2015 17:05:27\n",
      "14-Sep-2015 17:43:38\n",
      "14-Sep-2015 17:40:03\n",
      "14-Sep-2015 17:44:35\n",
      "14-Sep-2015 17:05:14\n",
      "14-Sep-2015 17:35:58\n",
      "14-Sep-2015 17:53:03\n",
      "14-Sep-2015 17:35:22\n",
      "14-Sep-2015 17:35:41\n",
      "14-Sep-2015 17:52:18\n",
      "14-Sep-2015 17:42:44\n",
      "14-Sep-2015 17:54:05\n",
      "14-Sep-2015 17:39:22\n",
      "14-Sep-2015 17:34:35\n",
      "14-Sep-2015 17:51:53\n",
      "14-Sep-2015 17:45:25\n",
      "14-Sep-2015 17:53:41\n",
      "14-Sep-2015 17:36:18\n",
      "14-Sep-2015 17:40:26\n",
      "14-Sep-2015 17:39:40\n",
      "14-Sep-2015 17:37:47\n",
      "14-Sep-2015 17:33:50\n",
      "14-Sep-2015 17:38:37\n",
      "14-Sep-2015 17:46:02\n",
      "14-Sep-2015 17:44:51\n",
      "14-Sep-2015 17:37:31\n",
      "14-Sep-2015 17:42:17\n",
      "14-Sep-2015 17:41:54\n",
      "14-Sep-2015 17:34:52\n",
      "14-Sep-2015 17:55:25\n",
      "14-Sep-2015 17:32:53\n",
      "14-Sep-2015 17:34:13\n",
      "14-Sep-2015 17:37:16\n",
      "14-Sep-2015 17:33:31\n",
      "14-Sep-2015 17:41:08\n",
      "14-Sep-2015 17:54:23\n",
      "14-Sep-2015 17:38:04\n",
      "14-Sep-2015 17:05:00\n",
      "14-Sep-2015 17:45:09\n",
      "14-Sep-2015 17:36:50\n",
      "14-Sep-2015 17:44:01\n",
      "14-Sep-2015 17:54:48\n"
     ]
    }
   ],
   "source": [
    "with open('MOAS_OPD_v_9_5.json') as data_file:    \n",
    "\tdata = json.load(data_file)\n",
    "for d in data:\n",
    "\tprint d['end']\n",
    "    "
   ]
  },
  {
   "cell_type": "code",
   "execution_count": 74,
   "metadata": {
    "collapsed": false
   },
   "outputs": [
    {
     "ename": "TypeError",
     "evalue": "Required argument 'timestamp' (pos 1) not found",
     "output_type": "error",
     "traceback": [
      "\u001b[0;31m---------------------------------------------------------------------------\u001b[0m",
      "\u001b[0;31mTypeError\u001b[0m                                 Traceback (most recent call last)",
      "\u001b[0;32m<ipython-input-74-22d891d9c0db>\u001b[0m in \u001b[0;36m<module>\u001b[0;34m()\u001b[0m\n\u001b[1;32m      1\u001b[0m \u001b[0;32mfor\u001b[0m \u001b[0mi\u001b[0m \u001b[0;32min\u001b[0m \u001b[0mrange\u001b[0m\u001b[0;34m(\u001b[0m\u001b[0mlen\u001b[0m\u001b[0;34m(\u001b[0m\u001b[0mdata\u001b[0m\u001b[0;34m)\u001b[0m\u001b[0;34m)\u001b[0m\u001b[0;34m:\u001b[0m\u001b[0;34m\u001b[0m\u001b[0m\n\u001b[1;32m      2\u001b[0m         \u001b[0mdate\u001b[0m \u001b[0;34m=\u001b[0m \u001b[0mdatetime\u001b[0m\u001b[0;34m.\u001b[0m\u001b[0mdatetime\u001b[0m\u001b[0;34m.\u001b[0m\u001b[0mstrptime\u001b[0m\u001b[0;34m(\u001b[0m \u001b[0mdata\u001b[0m\u001b[0;34m[\u001b[0m\u001b[0mi\u001b[0m\u001b[0;34m]\u001b[0m\u001b[0;34m[\u001b[0m\u001b[0;34m'end'\u001b[0m\u001b[0;34m]\u001b[0m\u001b[0;34m[\u001b[0m\u001b[0;34m:\u001b[0m\u001b[0;36m11\u001b[0m\u001b[0;34m]\u001b[0m\u001b[0;34m.\u001b[0m\u001b[0mreplace\u001b[0m\u001b[0;34m(\u001b[0m\u001b[0;34m\" \"\u001b[0m\u001b[0;34m,\u001b[0m \u001b[0;34m\"\"\u001b[0m\u001b[0;34m)\u001b[0m\u001b[0;34m,\u001b[0m \u001b[0;34m\"%d-%b-%Y\"\u001b[0m\u001b[0;34m)\u001b[0m\u001b[0;34m\u001b[0m\u001b[0m\n\u001b[0;32m----> 3\u001b[0;31m         \u001b[0;32mprint\u001b[0m \u001b[0mdate\u001b[0m\u001b[0;34m.\u001b[0m\u001b[0mfromtimestamp\u001b[0m\u001b[0;34m(\u001b[0m\u001b[0;34m)\u001b[0m\u001b[0;34m\u001b[0m\u001b[0m\n\u001b[0m",
      "\u001b[0;31mTypeError\u001b[0m: Required argument 'timestamp' (pos 1) not found"
     ]
    }
   ],
   "source": [
    "for i in range(len(data)):\n",
    "\tdate = datetime.datetime.strptime( data[i]['end'][:11].replace(\" \", \"\"), \"%d-%b-%Y\")\n",
    "\tprint date.fromtimestamp()"
   ]
  },
  {
   "cell_type": "code",
   "execution_count": 73,
   "metadata": {
    "collapsed": false
   },
   "outputs": [
    {
     "data": {
      "text/plain": [
       "{u'KEY': u'uuid:08573790-6dbd-461a-ac7c-2f8e5fe0154e',\n",
       " u'SubmissionDate': u'01-Jan-2000 00:01:31',\n",
       " 'date': datetime.datetime(2015, 9, 14, 0, 0),\n",
       " u'deviceid': u'358150045088276',\n",
       " u'end': u'14-Sep-2015 17:45:39',\n",
       " u'formhub-uuid': u'e36b92b6fd634f7a837a93faea29765c',\n",
       " u'meta-instanceID': u'uuid:08573790-6dbd-461a-ac7c-2f8e5fe0154e',\n",
       " u'morb_ties-morb': u'',\n",
       " u'morb_ties-oth_morb': u'',\n",
       " u'pat_dt-age_m': u'9.0000000000',\n",
       " u'pat_dt-age_y': u'0E-10',\n",
       " u'pat_dt-nat_ty': u'BI',\n",
       " u'pat_dt-oth_nat_ty': u'',\n",
       " u'pat_dt-rescue_no': u'3',\n",
       " u'pat_dt-sex': u'1',\n",
       " u'start': u'14-Sep-2015 17:45:27'}"
      ]
     },
     "execution_count": 73,
     "metadata": {},
     "output_type": "execute_result"
    }
   ],
   "source": [
    "data[0]"
   ]
  }
 ],
 "metadata": {
  "kernelspec": {
   "display_name": "Python 2",
   "language": "python",
   "name": "python2"
  },
  "language_info": {
   "codemirror_mode": {
    "name": "ipython",
    "version": 2
   },
   "file_extension": ".py",
   "mimetype": "text/x-python",
   "name": "python",
   "nbconvert_exporter": "python",
   "pygments_lexer": "ipython2",
   "version": "2.7.6"
  }
 },
 "nbformat": 4,
 "nbformat_minor": 0
}
